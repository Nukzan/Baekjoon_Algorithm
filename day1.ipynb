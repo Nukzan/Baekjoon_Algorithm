{
 "cells": [
  {
   "cell_type": "markdown",
   "metadata": {},
   "source": [
    "# 1단계 입출력과 사칙연산"
   ]
  },
  {
   "cell_type": "code",
   "execution_count": 1,
   "metadata": {},
   "outputs": [
    {
     "name": "stdout",
     "output_type": "stream",
     "text": [
      "Hello World!\n"
     ]
    }
   ],
   "source": [
    "#문제번호 2557\n",
    "\n",
    "## 출력\n",
    "# Hello World!\n",
    "\n",
    "print('Hello World!')"
   ]
  },
  {
   "cell_type": "code",
   "execution_count": 2,
   "metadata": {},
   "outputs": [
    {
     "name": "stdout",
     "output_type": "stream",
     "text": [
      "강한친구 대한육군\n",
      "강한친구 대한육군\n"
     ]
    }
   ],
   "source": [
    "#문제번호 10718\n",
    "\n",
    "## 출력\n",
    "# 강한친구 대한육군\n",
    "# 강한친구 대한육군\n",
    "\n",
    "print('강한친구 대한육군\\n강한친구 대한육군')"
   ]
  },
  {
   "cell_type": "code",
   "execution_count": 3,
   "metadata": {},
   "outputs": [
    {
     "name": "stdout",
     "output_type": "stream",
     "text": [
      "\\    /\\\n",
      " )  ( ')\n",
      "(  /  )\n",
      " \\(__)|\n"
     ]
    }
   ],
   "source": [
    "#문제번호 10171\n",
    "\n",
    "## 출력\n",
    "# \\    /\\\n",
    "#  )  ( ')\n",
    "# (  /  )\n",
    "#  \\(__)|\n",
    "\n",
    "print('\\\\    /\\\\\\n )  ( \\')\\n(  /  )\\n \\\\(__)|')"
   ]
  },
  {
   "cell_type": "code",
   "execution_count": 4,
   "metadata": {},
   "outputs": [
    {
     "name": "stdout",
     "output_type": "stream",
     "text": [
      "|\\_/|\n",
      "|q p|   /}\n",
      "( 0 )\"\"\"\\\n",
      "|\"^\"`    |\n",
      "||_/=\\\\__|\n"
     ]
    }
   ],
   "source": [
    "#문제번호 10172\n",
    "\n",
    "# |\\_/|\n",
    "# |q p|   /}\n",
    "# ( 0 )\"\"\"\\\n",
    "# |\"^\"`    |\n",
    "# ||_/=\\\\__|\n",
    "\n",
    "print('|\\\\_/|\\n|q p|   /}\\n( 0 )\"\"\"\\\\\\n|\"^\"`    |\\n||_/=\\\\\\\\__|')"
   ]
  },
  {
   "cell_type": "code",
   "execution_count": 5,
   "metadata": {},
   "outputs": [
    {
     "name": "stdout",
     "output_type": "stream",
     "text": [
      "1 2\n",
      "3\n"
     ]
    }
   ],
   "source": [
    "#문제번호 1000\n",
    "\n",
    "## 입력\n",
    "# 1 2 -- 한 번에 이렇게 값을 받아야함\n",
    "\n",
    "## 출력\n",
    "# 3\n",
    "\n",
    "## 문제를 잘못 이해함 -- a와 b를 각각 입력받는 걸로 알았음...\n",
    "# A = int(input())\n",
    "# B = int(input())\n",
    "# print(A+B)\n",
    "\n",
    "a, b = map(int, input().split()) # input().split 으로 받을 경우 리스트로 반환됨\n",
    "print(a+b)"
   ]
  },
  {
   "cell_type": "code",
   "execution_count": 6,
   "metadata": {
    "scrolled": true
   },
   "outputs": [
    {
     "name": "stdout",
     "output_type": "stream",
     "text": [
      "3 2\n",
      "1\n"
     ]
    }
   ],
   "source": [
    "#문제번호 1001\n",
    "\n",
    "## 입력\n",
    "# 3 2\n",
    "\n",
    "## 출력\n",
    "# 1\n",
    "\n",
    "a, b = map(int, input().split())\n",
    "print(a-b)"
   ]
  },
  {
   "cell_type": "code",
   "execution_count": 7,
   "metadata": {},
   "outputs": [
    {
     "name": "stdout",
     "output_type": "stream",
     "text": [
      "1 2\n",
      "2\n"
     ]
    }
   ],
   "source": [
    "#문제번호 10998\n",
    "\n",
    "## 입력\n",
    "# 1 2\n",
    "\n",
    "## 출력\n",
    "# 2\n",
    "\n",
    "a, b = map(int, input().split())\n",
    "print(a*b)"
   ]
  },
  {
   "cell_type": "code",
   "execution_count": 8,
   "metadata": {},
   "outputs": [
    {
     "name": "stdout",
     "output_type": "stream",
     "text": [
      "4 5\n",
      "0.8\n"
     ]
    }
   ],
   "source": [
    "#문제번호 1008\n",
    "\n",
    "## 입력\n",
    "# 4 5\n",
    "\n",
    "## 출력\n",
    "# 0.8\n",
    "\n",
    "a, b = map(int, input().split())\n",
    "print(a/b)"
   ]
  },
  {
   "cell_type": "code",
   "execution_count": 9,
   "metadata": {},
   "outputs": [
    {
     "name": "stdout",
     "output_type": "stream",
     "text": [
      "7 3\n",
      "10\n",
      "4\n",
      "21\n",
      "2\n",
      "1\n"
     ]
    }
   ],
   "source": [
    "#문제번호 10869\n",
    "\n",
    "## 입력\n",
    "# 7 3\n",
    "\n",
    "## 출력\n",
    "# 10\n",
    "# 4\n",
    "# 21\n",
    "# 2\n",
    "# 1\n",
    "\n",
    "a, b = map(int, input().split())\n",
    "print(a+b),\n",
    "print(a-b),\n",
    "print(a*b),\n",
    "print(a//b), # 정수로 몫을 반환함\n",
    "print(a%b)"
   ]
  },
  {
   "cell_type": "code",
   "execution_count": 10,
   "metadata": {},
   "outputs": [
    {
     "name": "stdout",
     "output_type": "stream",
     "text": [
      "472\n",
      "385\n",
      "2360\n",
      "3776\n",
      "1416\n",
      "181720\n"
     ]
    }
   ],
   "source": [
    "#문제번호 2588\n",
    "\n",
    "## 입력\n",
    "# 472\n",
    "# 385\n",
    "\n",
    "## 출력\n",
    "# 2360\n",
    "# 3776\n",
    "# 1416\n",
    "# 181720\n",
    "\n",
    "a = input()\n",
    "b = input()\n",
    "print(int(a[0:3])*int(b[2])),\n",
    "print(int(a[0:3])*int(b[1])),\n",
    "print(int(a[0:3])*int(b[0])),\n",
    "print(int(a[0:3])*int(b[0:3]))"
   ]
  }
 ],
 "metadata": {
  "kernelspec": {
   "display_name": "Python 3",
   "language": "python",
   "name": "python3"
  },
  "language_info": {
   "codemirror_mode": {
    "name": "ipython",
    "version": 3
   },
   "file_extension": ".py",
   "mimetype": "text/x-python",
   "name": "python",
   "nbconvert_exporter": "python",
   "pygments_lexer": "ipython3",
   "version": "3.7.7"
  }
 },
 "nbformat": 4,
 "nbformat_minor": 4
}
